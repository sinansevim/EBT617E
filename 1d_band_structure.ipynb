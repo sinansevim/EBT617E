{
 "cells": [
  {
   "cell_type": "markdown",
   "id": "atomic-integral",
   "metadata": {},
   "source": [
    "# Exercises for EBT617E - Week 2"
   ]
  },
  {
   "cell_type": "markdown",
   "id": "administrative-intellectual",
   "metadata": {},
   "source": [
    "## Bloch Theorem\n",
    "\n",
    "An energy eigenstate in a periodic potential can be written as \n",
    "\n",
    "$$ \\Psi_k(z) = \\mathrm{e}^{ikz} u_k(z) $$\n",
    "\n",
    "Since the potential $V(z)$ and the $u_k(z)$ functions are periodic in $z$ with period $a$, they can be written as a Fourier series\n",
    "\n",
    "$$ V(z) = V(z+a) = \\sum_n V_n \\mathrm{e}^{i2\\pi n z /a} = \\sum_n V_n \\mathrm{e}^{iG_n z} \\qquad \\mathrm{and} \\qquad  u_k(z) = \\sum_n u_{k,n} \\mathrm{e}^{iG_n z} $$\n",
    "\n",
    "where $G_n = \\frac{2\\pi}{a} n$ are the reciprocal lattice vectors. Since any $k' = (k+G_n)$ with $k \\in [-\\pi/a,\\pi/a)$ in the BZ, we can label the states with the indices $(k,n)$.\n",
    "\n",
    "The Schrödinger equation \n",
    "\n",
    "$$ \\left[ \\frac{\\hbar^2 \\mathrm{d}^2}{2m \\mathrm{d}z^2} + V(z) \\right] \\Psi_k(z) = E_k \\Psi_k(z) $$\n",
    "\n",
    "can be written in Fourier space as \n",
    "\n",
    "$$ \\epsilon_{k+G_n} u_{k,n}  + \\sum_m V_m u_{k,n-m} = E_k u_{k,n} $$\n",
    "\n",
    "where $\\epsilon_{k+G_n} = \\frac{\\hbar^2 (k+G_n)^2}{2m}$. For example, for a potential with only $V_{\\pm 1}$ nonvanishing, we have a tridiagonal band matrix of the following form:\n",
    "\n",
    "\\begin{equation}\n",
    "    \\begin{pmatrix} \\ddots &                 &                        &                   &                     &   & & \\\\\n",
    "                    \\ddots & \\ddots          &   \\ddots               &                   &                     &   & &  \\\\\n",
    "                           & V_{-1}          &  \\epsilon_{k,G_{-1}}   &  V_1              &                     &   & &\\\\\n",
    "                           &                 &    V_{-1}              &  \\epsilon_{k,G_0} &  V_1                &   & &  \\\\\n",
    "                           &                 &                        &  V_{-1}           & \\epsilon_{k,G_1}    & V_1 & &\\\\\n",
    "                           & & & &\\ddots &\\ddots &\\ddots &  \\\\\n",
    "                           & & & & & &\\ddots &\n",
    "                                                \\end{pmatrix}  \n",
    "                    \\begin{pmatrix} \\vdots \\\\ \\vdots \\\\ u_1 \\\\ u_0 \\\\ u_{\\textit{-}1} \\\\ \\vdots \\\\ \\vdots \\end{pmatrix}\n",
    "                    =\n",
    "                   E_k \\begin{pmatrix} \\vdots \\\\ \\vdots \\\\ u_1 \\\\ u_0 \\\\ u_{\\textit{-}1} \\\\ \\vdots \\\\ \\vdots \\end{pmatrix} \n",
    "\\end{equation}\n",
    "\n",
    "\n",
    "Scaling:\n",
    "\n",
    "$$ z' = z / a, \\qquad k' = ka, \\qquad E' = E / (\\hbar^2/2ma^2) $$\n",
    "\n",
    "so that $k \\in [-\\pi,\\pi)$."
   ]
  },
  {
   "cell_type": "code",
   "execution_count": null,
   "id": "interstate-independence",
   "metadata": {},
   "outputs": [],
   "source": []
  },
  {
   "cell_type": "code",
   "execution_count": 1,
   "id": "reasonable-dream",
   "metadata": {},
   "outputs": [],
   "source": [
    "import numpy as np\n",
    "\n",
    "%matplotlib inline\n",
    "import matplotlib.pyplot as plt"
   ]
  },
  {
   "cell_type": "code",
   "execution_count": 2,
   "id": "italic-collective",
   "metadata": {},
   "outputs": [],
   "source": [
    "# k in [-pi,pi]\n",
    "def ϵkG(k,n):\n",
    "    G = 2*np.pi*n\n",
    "    return (G+k)**2"
   ]
  },
  {
   "cell_type": "code",
   "execution_count": 3,
   "id": "tender-arcade",
   "metadata": {},
   "outputs": [],
   "source": [
    "# number of bands is 2*nmax+1\n",
    "nmax = 5\n",
    "dB = 2*nmax+1\n",
    "\n",
    "# number of points in the Brillouin zone\n",
    "Nk = 2**12\n",
    "\n",
    "kk, dk = np.linspace(-np.pi,np.pi,Nk,endpoint=True,retstep=True)"
   ]
  },
  {
   "cell_type": "markdown",
   "id": "blond-aside",
   "metadata": {},
   "source": [
    "Potential \n",
    "\n",
    "$$ V(x) = V_\\mathrm{max} \\cos (2 \\pi x/a) $$"
   ]
  },
  {
   "cell_type": "code",
   "execution_count": 4,
   "id": "hybrid-quebec",
   "metadata": {},
   "outputs": [],
   "source": [
    "Vmax = 1\n",
    "\n",
    "dF = 1\n",
    "FCoeffs = np.zeros(2*dF+1)\n",
    "FCoeffs[0] = -Vmax/2 \n",
    "FCoeffs[1] = 0\n",
    "FCoeffs[2] = -Vmax/2"
   ]
  },
  {
   "cell_type": "code",
   "execution_count": 5,
   "id": "designing-sweet",
   "metadata": {},
   "outputs": [],
   "source": [
    "# real-Fourier space transform\n",
    "\n",
    "# real space mesh\n",
    "Nz = 101\n",
    "zmax = 0.5\n",
    "zz = np.linspace(-zmax,zmax,Nz,endpoint=True)\n",
    "\n",
    "nn = np.arange(-dF,dF+1)\n",
    "\n",
    "expqnz= np.exp(1j*2*np.pi*np.outer(zz,nn))"
   ]
  },
  {
   "cell_type": "code",
   "execution_count": 6,
   "id": "intelligent-inspiration",
   "metadata": {},
   "outputs": [
    {
     "data": {
      "text/plain": [
       "Text(0.5, 0, 'V(z)')"
      ]
     },
     "execution_count": 6,
     "metadata": {},
     "output_type": "execute_result"
    },
    {
     "data": {
      "image/png": "[encoded data removed]",
      "text/plain": [
       "<Figure size 432x288 with 1 Axes>"
      ]
     },
     "metadata": {
      "needs_background": "light"
     },
     "output_type": "display_data"
    }
   ],
   "source": [
    "# plot the periodic potential using Fourier coefficients\n",
    "Vz = expqnz@FCoeffs\n",
    "plt.plot(zz,Vz.real)\n",
    "plt.plot(zz,Vz.imag)\n",
    "plt.xlabel(\"z/a\")\n",
    "plt.xlabel(\"V(z)\")"
   ]
  },
  {
   "cell_type": "code",
   "execution_count": 7,
   "id": "perceived-sherman",
   "metadata": {},
   "outputs": [],
   "source": [
    "def FMat(FCoeffs, nmax):\n",
    "    dB = 2*nmax+1\n",
    "    MM = np.zeros([dB,dB])\n",
    "    dM = len(FCoeffs)//2+1\n",
    "    for iFc,Fc in enumerate(FCoeffs):\n",
    "        MM+=np.diag([Fc]*(dB-np.abs(-dM+iFc+1)),-dM+iFc+1)\n",
    "    return MM # +MM.T\n",
    "\n",
    "def Hband(nmax,k,VFMat):\n",
    "    nn = np.arange(-nmax,nmax+1)\n",
    "    HH = np.diag(ϵkG(k,nn))\n",
    "    HH+= VFMat\n",
    "    return HH"
   ]
  },
  {
   "cell_type": "code",
   "execution_count": 8,
   "id": "false-brave",
   "metadata": {},
   "outputs": [
    {
     "data": {
      "text/plain": [
       "<matplotlib.image.AxesImage at 0x14b45411ca30>"
      ]
     },
     "execution_count": 8,
     "metadata": {},
     "output_type": "execute_result"
    },
    {
     "data": {
      "image/png": "[encoded data removed]",
      "text/plain": [
       "<Figure size 432x288 with 1 Axes>"
      ]
     },
     "metadata": {
      "needs_background": "light"
     },
     "output_type": "display_data"
    }
   ],
   "source": [
    "plt.imshow(FMat(FCoeffs, nmax))"
   ]
  },
  {
   "cell_type": "code",
   "execution_count": 9,
   "id": "incorporate-oracle",
   "metadata": {},
   "outputs": [],
   "source": [
    "k=0\n",
    "VFMat = FMat(FCoeffs, nmax)\n",
    "Hb    = Hband(nmax,k,VFMat)"
   ]
  },
  {
   "cell_type": "code",
   "execution_count": 10,
   "id": "included-falls",
   "metadata": {},
   "outputs": [
    {
     "data": {
      "text/plain": [
       "<matplotlib.image.AxesImage at 0x14b4540887c0>"
      ]
     },
     "execution_count": 10,
     "metadata": {},
     "output_type": "execute_result"
    },
    {
     "data": {
      "image/png": "[encoded data removed]",
      "text/plain": [
       "<Figure size 432x288 with 1 Axes>"
      ]
     },
     "metadata": {
      "needs_background": "light"
     },
     "output_type": "display_data"
    }
   ],
   "source": [
    "plt.imshow(Hb)"
   ]
  },
  {
   "cell_type": "code",
   "execution_count": 11,
   "id": "illegal-precipitation",
   "metadata": {},
   "outputs": [],
   "source": [
    "Ebands=[]\n",
    "for k in kk:\n",
    "    Hb = Hband(nmax,k,VFMat)\n",
    "    ee, uu = np.linalg.eigh(Hb)\n",
    "    Ebands.append(ee)\n",
    "    \n",
    "Ebands=np.array(Ebands)"
   ]
  },
  {
   "cell_type": "code",
   "execution_count": 148,
   "id": "superb-romantic",
   "metadata": {
    "collapsed": true,
    "jupyter": {
     "outputs_hidden": true
    }
   },
   "outputs": [
    {
     "data": {
      "text/plain": [
       "\u001b[0;31mSignature:\u001b[0m\n",
       "\u001b[0mnp\u001b[0m\u001b[0;34m.\u001b[0m\u001b[0mhistogram\u001b[0m\u001b[0;34m(\u001b[0m\u001b[0;34m\u001b[0m\n",
       "\u001b[0;34m\u001b[0m    \u001b[0ma\u001b[0m\u001b[0;34m,\u001b[0m\u001b[0;34m\u001b[0m\n",
       "\u001b[0;34m\u001b[0m    \u001b[0mbins\u001b[0m\u001b[0;34m=\u001b[0m\u001b[0;36m10\u001b[0m\u001b[0;34m,\u001b[0m\u001b[0;34m\u001b[0m\n",
       "\u001b[0;34m\u001b[0m    \u001b[0mrange\u001b[0m\u001b[0;34m=\u001b[0m\u001b[0;32mNone\u001b[0m\u001b[0;34m,\u001b[0m\u001b[0;34m\u001b[0m\n",
       "\u001b[0;34m\u001b[0m    \u001b[0mnormed\u001b[0m\u001b[0;34m=\u001b[0m\u001b[0;32mNone\u001b[0m\u001b[0;34m,\u001b[0m\u001b[0;34m\u001b[0m\n",
       "\u001b[0;34m\u001b[0m    \u001b[0mweights\u001b[0m\u001b[0;34m=\u001b[0m\u001b[0;32mNone\u001b[0m\u001b[0;34m,\u001b[0m\u001b[0;34m\u001b[0m\n",
       "\u001b[0;34m\u001b[0m    \u001b[0mdensity\u001b[0m\u001b[0;34m=\u001b[0m\u001b[0;32mNone\u001b[0m\u001b[0;34m,\u001b[0m\u001b[0;34m\u001b[0m\n",
       "\u001b[0;34m\u001b[0m\u001b[0;34m)\u001b[0m\u001b[0;34m\u001b[0m\u001b[0;34m\u001b[0m\u001b[0m\n",
       "\u001b[0;31mDocstring:\u001b[0m\n",
       "Compute the histogram of a set of data.\n",
       "\n",
       "Parameters\n",
       "----------\n",
       "a : array_like\n",
       "    Input data. The histogram is computed over the flattened array.\n",
       "bins : int or sequence of scalars or str, optional\n",
       "    If `bins` is an int, it defines the number of equal-width\n",
       "    bins in the given range (10, by default). If `bins` is a\n",
       "    sequence, it defines a monotonically increasing array of bin edges,\n",
       "    including the rightmost edge, allowing for non-uniform bin widths.\n",
       "\n",
       "    .. versionadded:: 1.11.0\n",
       "\n",
       "    If `bins` is a string, it defines the method used to calculate the\n",
       "    optimal bin width, as defined by `histogram_bin_edges`.\n",
       "\n",
       "range : (float, float), optional\n",
       "    The lower and upper range of the bins.  If not provided, range\n",
       "    is simply ``(a.min(), a.max())``.  Values outside the range are\n",
       "    ignored. The first element of the range must be less than or\n",
       "    equal to the second. `range` affects the automatic bin\n",
       "    computation as well. While bin width is computed to be optimal\n",
       "    based on the actual data within `range`, the bin count will fill\n",
       "    the entire range including portions containing no data.\n",
       "normed : bool, optional\n",
       "\n",
       "    .. deprecated:: 1.6.0\n",
       "\n",
       "    This is equivalent to the `density` argument, but produces incorrect\n",
       "    results for unequal bin widths. It should not be used.\n",
       "\n",
       "    .. versionchanged:: 1.15.0\n",
       "        DeprecationWarnings are actually emitted.\n",
       "\n",
       "weights : array_like, optional\n",
       "    An array of weights, of the same shape as `a`.  Each value in\n",
       "    `a` only contributes its associated weight towards the bin count\n",
       "    (instead of 1). If `density` is True, the weights are\n",
       "    normalized, so that the integral of the density over the range\n",
       "    remains 1.\n",
       "density : bool, optional\n",
       "    If ``False``, the result will contain the number of samples in\n",
       "    each bin. If ``True``, the result is the value of the\n",
       "    probability *density* function at the bin, normalized such that\n",
       "    the *integral* over the range is 1. Note that the sum of the\n",
       "    histogram values will not be equal to 1 unless bins of unity\n",
       "    width are chosen; it is not a probability *mass* function.\n",
       "\n",
       "    Overrides the ``normed`` keyword if given.\n",
       "\n",
       "Returns\n",
       "-------\n",
       "hist : array\n",
       "    The values of the histogram. See `density` and `weights` for a\n",
       "    description of the possible semantics.\n",
       "bin_edges : array of dtype float\n",
       "    Return the bin edges ``(length(hist)+1)``.\n",
       "\n",
       "\n",
       "See Also\n",
       "--------\n",
       "histogramdd, bincount, searchsorted, digitize, histogram_bin_edges\n",
       "\n",
       "Notes\n",
       "-----\n",
       "All but the last (righthand-most) bin is half-open.  In other words,\n",
       "if `bins` is::\n",
       "\n",
       "  [1, 2, 3, 4]\n",
       "\n",
       "then the first bin is ``[1, 2)`` (including 1, but excluding 2) and\n",
       "the second ``[2, 3)``.  The last bin, however, is ``[3, 4]``, which\n",
       "*includes* 4.\n",
       "\n",
       "\n",
       "Examples\n",
       "--------\n",
       ">>> np.histogram([1, 2, 1], bins=[0, 1, 2, 3])\n",
       "(array([0, 2, 1]), array([0, 1, 2, 3]))\n",
       ">>> np.histogram(np.arange(4), bins=np.arange(5), density=True)\n",
       "(array([0.25, 0.25, 0.25, 0.25]), array([0, 1, 2, 3, 4]))\n",
       ">>> np.histogram([[1, 2, 1], [1, 0, 1]], bins=[0,1,2,3])\n",
       "(array([1, 4, 1]), array([0, 1, 2, 3]))\n",
       "\n",
       ">>> a = np.arange(5)\n",
       ">>> hist, bin_edges = np.histogram(a, density=True)\n",
       ">>> hist\n",
       "array([0.5, 0. , 0.5, 0. , 0. , 0.5, 0. , 0.5, 0. , 0.5])\n",
       ">>> hist.sum()\n",
       "2.4999999999999996\n",
       ">>> np.sum(hist * np.diff(bin_edges))\n",
       "1.0\n",
       "\n",
       ".. versionadded:: 1.11.0\n",
       "\n",
       "Automated Bin Selection Methods example, using 2 peak random data\n",
       "with 2000 points:\n",
       "\n",
       ">>> import matplotlib.pyplot as plt\n",
       ">>> rng = np.random.RandomState(10)  # deterministic random data\n",
       ">>> a = np.hstack((rng.normal(size=1000),\n",
       "...                rng.normal(loc=5, scale=2, size=1000)))\n",
       ">>> _ = plt.hist(a, bins='auto')  # arguments are passed to np.histogram\n",
       ">>> plt.title(\"Histogram with 'auto' bins\")\n",
       "Text(0.5, 1.0, \"Histogram with 'auto' bins\")\n",
       ">>> plt.show()\n",
       "\u001b[0;31mFile:\u001b[0m      ~/miniconda3/envs/ebt517e/lib/python3.9/site-packages/numpy/lib/histograms.py\n",
       "\u001b[0;31mType:\u001b[0m      function\n"
      ]
     },
     "metadata": {},
     "output_type": "display_data"
    }
   ],
   "source": [
    "np.histogram?"
   ]
  },
  {
   "cell_type": "markdown",
   "id": "greenhouse-tanzania",
   "metadata": {},
   "source": [
    "## Density of States\n",
    "\n",
    "Use broadening of energy levels\n",
    "\n",
    "$$ \\frac{1}{x-x_0-i\\epsilon} = \\frac{x-x_0}{(x-x_0)^2 + \\epsilon^2}+ i\\frac{\\epsilon}{(x-x_0)^2 + \\epsilon^2} $$\n",
    "\n",
    "$$ \\frac{1}{x-x_0-i\\epsilon} = \\mathcal{P}\\frac{1}{(x-x_0)}+ i\\pi \\delta(x-x_0) $$\n",
    "\n",
    "\n",
    "Density of states\n",
    "\n",
    "$$ \\rho(E) = \\int \\mathrm{d}E' \\delta(E-E') $$"
   ]
  },
  {
   "cell_type": "code",
   "execution_count": 54,
   "id": "miniature-football",
   "metadata": {},
   "outputs": [],
   "source": [
    "def get_dos(x,EE,ϵ=0.01):\n",
    "    return np.imag(np.sum(1/(x-EE-1j*ϵ)))/(len(EE)*np.pi)"
   ]
  },
  {
   "cell_type": "code",
   "execution_count": 48,
   "id": "polished-proposition",
   "metadata": {},
   "outputs": [
    {
     "data": {
      "text/plain": [
       "1.1841151543204116"
      ]
     },
     "execution_count": 48,
     "metadata": {},
     "output_type": "execute_result"
    }
   ],
   "source": [
    "get_dos(0, Ebands)"
   ]
  },
  {
   "cell_type": "code",
   "execution_count": 50,
   "id": "expensive-cemetery",
   "metadata": {},
   "outputs": [
    {
     "data": {
      "text/plain": [
       "39.47110582208123"
      ]
     },
     "execution_count": 50,
     "metadata": {},
     "output_type": "execute_result"
    }
   ],
   "source": [
    "Ebands[:,:2].flatten().max()"
   ]
  },
  {
   "cell_type": "code",
   "execution_count": 61,
   "id": "fitting-group",
   "metadata": {},
   "outputs": [
    {
     "name": "stdout",
     "output_type": "stream",
     "text": [
      "CPU times: user 37.9 ms, sys: 6 µs, total: 37.9 ms\n",
      "Wall time: 36.9 ms\n"
     ]
    }
   ],
   "source": [
    "%%time\n",
    "Earr = np.linspace(0.8*Ebands[:,:2].flatten().min(), Ebands[:,:2].flatten().max(), 401)\n",
    "ϵ=0.01\n",
    "Edos = [get_dos(Eval, Ebands[:,:3].flatten(), ϵ=ϵ) for Eval in Earr]"
   ]
  },
  {
   "cell_type": "code",
   "execution_count": 62,
   "id": "amazing-shannon",
   "metadata": {},
   "outputs": [
    {
     "name": "stdout",
     "output_type": "stream",
     "text": [
      "ΔE = 1.0, |2V_G| = 1.0\n"
     ]
    },
    {
     "data": {
      "text/plain": [
       "<matplotlib.lines.Line2D at 0x14b453b4c970>"
      ]
     },
     "execution_count": 62,
     "metadata": {},
     "output_type": "execute_result"
    },
    {
     "data": {
      "image/png": "[encoded data removed]",
      "text/plain": [
       "<Figure size 1080x360 with 3 Axes>"
      ]
     },
     "metadata": {
      "needs_background": "light"
     },
     "output_type": "display_data"
    }
   ],
   "source": [
    "fig, ax = plt.subplots(1,3, figsize=(15,5))\n",
    "\n",
    "Nbands=2\n",
    "# plot the first two bands\n",
    "for ni,n in enumerate(nn[:Nbands]):\n",
    "    ax[0].plot(kk,Ebands[:,ni],'-')\n",
    "    ρE, Ea = np.histogram(Ebands[:,ni], bins=41, density=True)\n",
    "    ax[1].plot(ρE,Ea[:-1],'.-')\n",
    "# energy gap between 1st and 2nd band\n",
    "# plt.axhline(y=Ebands[-1,0], ls='--', color=\"gray\")\n",
    "# plt.axhline(y=Ebands[-1,1], ls='--', color=\"gray\")\n",
    "\n",
    "ax[2].plot(Edos,Earr,'-')\n",
    "\n",
    "print(f'ΔE = {Ebands[0,1] - Ebands[0,0]:.3}, |2V_G| = {2*abs(FCoeffs[-1]):3}')\n",
    "\n",
    "#plt.ylim([Ebands[0,0]*.8,Ebands[0,1]*1.2])\n",
    "ax[0].set_ylabel(\"E\")\n",
    "ax[0].set_xlabel(\"ka\")\n",
    "ax[0].set_title(\"Band Structure\")\n",
    "ax[1].set_xlabel(\"ρ(E) (arb. units.)\")\n",
    "ax[1].set_title(\"Density of states\");\n",
    "\n",
    "ax[1].set_ylim([-1,20])\n",
    "ax[1].axvline(0,ls='--',c='k')\n",
    "ax[2].set_ylim([-1,20])\n",
    "ax[2].axvline(0,ls='--',c='k')\n"
   ]
  },
  {
   "cell_type": "code",
   "execution_count": 58,
   "id": "final-space",
   "metadata": {},
   "outputs": [],
   "source": [
    "# real-Fourier space transform\n",
    "nn = np.arange(-nmax,nmax+1)\n",
    "\n",
    "# create the transformation matrix for the z-mesh\n",
    "expqnz= np.exp(1j*2*np.pi*np.outer(zz,nn))"
   ]
  },
  {
   "cell_type": "code",
   "execution_count": 145,
   "id": "bridal-soldier",
   "metadata": {},
   "outputs": [
    {
     "data": {
      "text/plain": [
       "Text(0, 0.5, 'u(z)')"
      ]
     },
     "execution_count": 145,
     "metadata": {},
     "output_type": "execute_result"
    },
    {
     "data": {
      "image/png": "[encoded data removed]",
      "text/plain": [
       "<Figure size 432x288 with 1 Axes>"
      ]
     },
     "metadata": {
      "needs_background": "light"
     },
     "output_type": "display_data"
    }
   ],
   "source": [
    "# plot the real space wave function for an eigenstate\n",
    "\n",
    "for iz in range(3):\n",
    "    uz = expqnz@uu[:,iz]\n",
    "    plt.plot(zz,np.abs(uz)**2)\n",
    "plt.xlabel(\"ka\")\n",
    "plt.ylabel(\"u(z)\")"
   ]
  },
  {
   "cell_type": "code",
   "execution_count": null,
   "id": "framed-aggregate",
   "metadata": {},
   "outputs": [],
   "source": []
  },
  {
   "cell_type": "code",
   "execution_count": null,
   "id": "educational-senator",
   "metadata": {},
   "outputs": [],
   "source": []
  },
  {
   "cell_type": "code",
   "execution_count": null,
   "id": "ambient-estimate",
   "metadata": {},
   "outputs": [],
   "source": []
  }
 ],
 "metadata": {
  "kernelspec": {
   "display_name": "Python 3",
   "language": "python",
   "name": "python3"
  },
  "language_info": {
   "codemirror_mode": {
    "name": "ipython",
    "version": 3
   },
   "file_extension": ".py",
   "mimetype": "text/x-python",
   "name": "python",
   "nbconvert_exporter": "python",
   "pygments_lexer": "ipython3",
   "version": "3.9.2"
  }
 },
 "nbformat": 4,
 "nbformat_minor": 5
}
