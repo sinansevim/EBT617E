{
 "cells": [
  {
   "cell_type": "markdown",
   "id": "interesting-maximum",
   "metadata": {},
   "source": [
    "# Exercises for EBT617E - Week 2"
   ]
  },
  {
   "cell_type": "markdown",
   "id": "furnished-replacement",
   "metadata": {},
   "source": [
    "## Bloch Theorem\n",
    "\n",
    "An energy eigenstate in a periodic potential can be written as \n",
    "\n",
    "$$ \\Psi_k(z) = \\mathrm{e}^{ikz} u_k(z) $$\n",
    "\n",
    "Since the potential $V(z)$ and the $u_k(z)$ functions are periodic in $z$ with period $a$, they can be written as a Fourier series\n",
    "\n",
    "$$ V(z) = V(z+a) = \\sum_n V_n \\mathrm{e}^{i2\\pi n z /a} \\qquad \\mathrm{and} \\qquad  u_k(z) = \\sum_n u_{k,n} \\mathrm{e}^{i2\\pi n z/a} $$\n",
    "\n",
    "The Schrödinger equation \n",
    "\n",
    "$$ \\left[ \\frac{\\hbar^2 \\mathrm{d}^2}{2m \\mathrm{d}z^2} + V(z) \\right] \\Psi_k(z) = E_k \\Psi_k(z) $$\n",
    "\n",
    "can be written in Fourier space as \n",
    "\n",
    "$$  \\frac{\\hbar^2 (k+G_n)^2}{2m}u_{k,n} + \\sum_m V_m u_{k,n-m} = E_k u_{k,n} $$\n",
    "\n",
    "where $G_n = \\frac{2\\pi}{a} n$ are the reciprocal lattice vectors.\n",
    "\n",
    "Scaling:\n",
    "\n",
    "$$ z' = z / a, \\qquad k' = ka, \\qquad E' = E / (\\hbar^2/2ma^2) $$"
   ]
  },
  {
   "cell_type": "code",
   "execution_count": null,
   "id": "systematic-vertex",
   "metadata": {},
   "outputs": [],
   "source": []
  },
  {
   "cell_type": "code",
   "execution_count": 139,
   "id": "baking-express",
   "metadata": {},
   "outputs": [],
   "source": [
    "import numpy as np\n",
    "\n",
    "%matplotlib inline\n",
    "import matplotlib.pyplot as plt"
   ]
  },
  {
   "cell_type": "code",
   "execution_count": 140,
   "id": "unnecessary-coalition",
   "metadata": {},
   "outputs": [],
   "source": [
    "# k in [-pi,pi]\n",
    "def ϵkG(k,n):\n",
    "    G = 2*np.pi*n\n",
    "    return (G+k)**2"
   ]
  },
  {
   "cell_type": "code",
   "execution_count": 152,
   "id": "warming-myrtle",
   "metadata": {},
   "outputs": [],
   "source": [
    "# number of bands is 2*nmax+1\n",
    "nmax = 10\n",
    "dB = 2*nmax+1\n",
    "\n",
    "# number of points in the Brillouin zone\n",
    "Nk = 64\n",
    "\n",
    "kk, dk = np.linspace(-np.pi,np.pi,Nk,endpoint=False,retstep=True)"
   ]
  },
  {
   "cell_type": "markdown",
   "id": "laden-egyptian",
   "metadata": {},
   "source": [
    "Potential \n",
    "\n",
    "$$ V(x) = V_\\mathrm{max} \\cos (2 \\pi x/a) $$"
   ]
  },
  {
   "cell_type": "code",
   "execution_count": 167,
   "id": "bearing-genesis",
   "metadata": {},
   "outputs": [],
   "source": [
    "Vmax = .1\n",
    "\n",
    "dF = 1\n",
    "FCoeffs = np.zeros(2*dF+1)\n",
    "FCoeffs[0] = Vmax/2 \n",
    "FCoeffs[1] = 0\n",
    "FCoeffs[2] = Vmax/2"
   ]
  },
  {
   "cell_type": "code",
   "execution_count": 168,
   "id": "cathedral-bristol",
   "metadata": {},
   "outputs": [],
   "source": [
    "# real-Fourier space transform\n",
    "\n",
    "# real space mesh\n",
    "Nz = 101\n",
    "zmax = 0.5\n",
    "zz = np.linspace(-zmax,zmax,Nz,endpoint=True)\n",
    "\n",
    "nn = np.arange(-dF,dF+1)\n",
    "\n",
    "expqnz= np.exp(1j*2*np.pi*np.outer(zz,nn))"
   ]
  },
  {
   "cell_type": "code",
   "execution_count": 169,
   "id": "premier-shareware",
   "metadata": {},
   "outputs": [
    {
     "data": {
      "text/plain": [
       "[<matplotlib.lines.Line2D at 0x14f7855ac970>]"
      ]
     },
     "execution_count": 169,
     "metadata": {},
     "output_type": "execute_result"
    },
    {
     "data": {
      "image/png": "[encoded data removed]",
      "text/plain": [
       "<Figure size 432x288 with 1 Axes>"
      ]
     },
     "metadata": {
      "needs_background": "light"
     },
     "output_type": "display_data"
    }
   ],
   "source": [
    "# plot the periodic potential using Fourier coefficients\n",
    "Vz = expqnz@FCoeffs\n",
    "plt.plot(zz,Vz.real)\n",
    "plt.plot(zz,Vz.imag)"
   ]
  },
  {
   "cell_type": "code",
   "execution_count": 170,
   "id": "remarkable-salvation",
   "metadata": {},
   "outputs": [],
   "source": [
    "def FMat(FCoeffs, nmax):\n",
    "    FCoeffs0 = FCoeffs\n",
    "    dB = 2*nmax+1\n",
    "    MM = np.zeros([dB,dB])\n",
    "    dM = len(FCoeffs)//2+1\n",
    "    for iFc,Fc in enumerate(FCoeffs0):\n",
    "        MM+=np.diag([Fc]*(dB-np.abs(-dM+iFc+1)),-dM+iFc+1)\n",
    "    return MM # +MM.T\n",
    "\n",
    "def Hband(nmax,k,FCoeffs):\n",
    "    nn = np.arange(-nmax,nmax+1)\n",
    "    HH = np.diag(ϵkG(k,nn))\n",
    "    HH+= FMat(FCoeffs, nmax)\n",
    "    return HH"
   ]
  },
  {
   "cell_type": "code",
   "execution_count": 171,
   "id": "steady-introduction",
   "metadata": {},
   "outputs": [
    {
     "data": {
      "text/plain": [
       "<matplotlib.image.AxesImage at 0x14f7855f0040>"
      ]
     },
     "execution_count": 171,
     "metadata": {},
     "output_type": "execute_result"
    },
    {
     "data": {
      "image/png": "[encoded data removed]",
      "text/plain": [
       "<Figure size 432x288 with 1 Axes>"
      ]
     },
     "metadata": {
      "needs_background": "light"
     },
     "output_type": "display_data"
    }
   ],
   "source": [
    "plt.imshow(FMat(FCoeffs, nmax))"
   ]
  },
  {
   "cell_type": "code",
   "execution_count": 172,
   "id": "aggressive-paradise",
   "metadata": {},
   "outputs": [],
   "source": [
    "k=0\n",
    "Hb = Hband(nmax,k,FCoeffs)"
   ]
  },
  {
   "cell_type": "code",
   "execution_count": 173,
   "id": "comic-lecture",
   "metadata": {},
   "outputs": [
    {
     "data": {
      "text/plain": [
       "<matplotlib.image.AxesImage at 0x14f785883280>"
      ]
     },
     "execution_count": 173,
     "metadata": {},
     "output_type": "execute_result"
    },
    {
     "data": {
      "image/png": "[encoded data removed]",
      "text/plain": [
       "<Figure size 432x288 with 1 Axes>"
      ]
     },
     "metadata": {
      "needs_background": "light"
     },
     "output_type": "display_data"
    }
   ],
   "source": [
    "plt.imshow(Hb)"
   ]
  },
  {
   "cell_type": "code",
   "execution_count": 174,
   "id": "defensive-connecticut",
   "metadata": {},
   "outputs": [],
   "source": [
    "Ebands=[]\n",
    "for k in kk:\n",
    "    Hb = Hband(nmax,k,FCoeffs)\n",
    "    ee, uu = np.linalg.eigh(Hb)\n",
    "    Ebands.append(ee)\n",
    "    \n",
    "Ebands=np.array(Ebands)"
   ]
  },
  {
   "cell_type": "code",
   "execution_count": 182,
   "id": "anonymous-burner",
   "metadata": {},
   "outputs": [
    {
     "name": "stdout",
     "output_type": "stream",
     "text": [
      "ΔE = 0.1, |V_G/2| = 0.025\n"
     ]
    },
    {
     "data": {
      "image/png": "[encoded data removed]",
      "text/plain": [
       "<Figure size 432x288 with 1 Axes>"
      ]
     },
     "metadata": {
      "needs_background": "light"
     },
     "output_type": "display_data"
    }
   ],
   "source": [
    "# plot the first two bands\n",
    "for ni,n in enumerate(nn[:2]):\n",
    "    plt.plot(kk,Ebands[:,ni],'.')\n",
    "    \n",
    "# energy gap between 1st and 2nd band\n",
    "plt.axhline(y=Ebands[-1,0], ls='--', color=\"gray\")\n",
    "plt.axhline(y=Ebands[-1,1], ls='--', color=\"gray\")\n",
    "\n",
    "print(f'ΔE = {Ebands[0,1] - Ebands[0,0]:.3}, |V_G/2| = {abs(FCoeffs[-1]/2):3}')\n",
    "\n",
    "#plt.ylim([9,10])"
   ]
  },
  {
   "cell_type": "code",
   "execution_count": 165,
   "id": "broad-convenience",
   "metadata": {},
   "outputs": [],
   "source": [
    "# real-Fourier space transform\n",
    "\n",
    "nn = np.arange(-nmax,nmax+1)\n",
    "\n",
    "expqnz= np.exp(1j*2*np.pi*np.outer(zz,nn))"
   ]
  },
  {
   "cell_type": "code",
   "execution_count": 166,
   "id": "unsigned-contamination",
   "metadata": {},
   "outputs": [
    {
     "data": {
      "image/png": "[encoded data removed]",
      "text/plain": [
       "<Figure size 432x288 with 1 Axes>"
      ]
     },
     "metadata": {
      "needs_background": "light"
     },
     "output_type": "display_data"
    }
   ],
   "source": [
    "# plot the real space wave function for an eigenstate\n",
    "\n",
    "for iz in range(3):\n",
    "    uz = expqnz@uu[:,iz]\n",
    "    plt.plot(zz,np.abs(uz)**2)"
   ]
  },
  {
   "cell_type": "code",
   "execution_count": null,
   "id": "suspended-namibia",
   "metadata": {},
   "outputs": [],
   "source": []
  },
  {
   "cell_type": "code",
   "execution_count": null,
   "id": "minute-nutrition",
   "metadata": {},
   "outputs": [],
   "source": []
  }
 ],
 "metadata": {
  "kernelspec": {
   "display_name": "Python 3",
   "language": "python",
   "name": "python3"
  },
  "language_info": {
   "codemirror_mode": {
    "name": "ipython",
    "version": 3
   },
   "file_extension": ".py",
   "mimetype": "text/x-python",
   "name": "python",
   "nbconvert_exporter": "python",
   "pygments_lexer": "ipython3",
   "version": "3.9.2"
  }
 },
 "nbformat": 4,
 "nbformat_minor": 5
}
