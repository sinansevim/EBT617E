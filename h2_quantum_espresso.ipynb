{
 "cells": [
  {
   "cell_type": "code",
   "execution_count": 1,
   "id": "juvenile-advertising",
   "metadata": {},
   "outputs": [],
   "source": [
    "import shlex, subprocess\n",
    "import numpy as np\n",
    "\n",
    "import matplotlib.pyplot as plt"
   ]
  },
  {
   "cell_type": "code",
   "execution_count": 26,
   "id": "athletic-county",
   "metadata": {},
   "outputs": [],
   "source": [
    "def run_shell_command(cmdline, output=True):\n",
    "    print(\"run shell command: \", cmdline, \"\\n\")\n",
    "    args = shlex.split(cmdline)\n",
    "    # let's use the new run command\n",
    "    p = subprocess.run(args, stdout=subprocess.PIPE, stderr=subprocess.STDOUT)\n",
    "    if output:\n",
    "        print(p.stdout.decode('utf-8'))\n",
    "        return p.stderr"
   ]
  },
  {
   "cell_type": "code",
   "execution_count": 27,
   "id": "southwest-version",
   "metadata": {},
   "outputs": [
    {
     "name": "stdout",
     "output_type": "stream",
     "text": [
      "run shell command:  ls \n",
      "\n",
      "1d_band_structure.ipynb\n",
      "2d_band_structure.ipynb\n",
      "ebt617e_env.yml\n",
      "ebt617e_ex1.ipynb\n",
      "h2\n",
      "h2_quantum_espresso.ipynb\n",
      "hw2_ebt617e.aux\n",
      "hw2_ebt617e.log\n",
      "hw2_ebt617e.out\n",
      "hw2_ebt617e.pdf\n",
      "hw2_ebt617e.tex\n",
      "hydrogen-wave-function.ipynb\n",
      "LICENSE\n",
      "README.md\n",
      "spec-file_ebt617e_env.txt\n",
      "\n"
     ]
    }
   ],
   "source": [
    "p = run_shell_command('ls', output=True)"
   ]
  },
  {
   "cell_type": "code",
   "execution_count": 16,
   "id": "written-classroom",
   "metadata": {},
   "outputs": [],
   "source": [
    "def create_input(d=1, inputfile=\"h2/h2.in\"):\n",
    "    filedata = f\"\"\"\n",
    "    &control\n",
    "    calculation = 'scf'\n",
    "    prefix = 'h2'\n",
    "    pseudo_dir = '/usr/share/espresso/pseudo/'\n",
    "    /\n",
    "    &system\n",
    "        ibrav=1, celldm(1) =20, \n",
    "        nat=2, ntyp=1,\n",
    "        ecutwfc=10.0\n",
    "    /\n",
    "    &electrons\n",
    "        conv_thr=1e-6\n",
    "    /\n",
    "    &ions\n",
    "        ion_dynamics='bfgs'\n",
    "    /\n",
    "    ATOMIC_SPECIES\n",
    "     H  1.00784  H.blyp-vbc.UPF\n",
    "    ATOMIC_POSITIONS (angstrom)\n",
    "     H 0.00 0.00 0.00\n",
    "     H {d:.2} 0.00 0.00\n",
    "    K_POINTS (automatic)\n",
    "      1 1 1 0 0 0 \n",
    "    \"\"\"\n",
    "    \n",
    "    # Write out the file to be compiledb\n",
    "    with open(inputfile, 'w') as file:\n",
    "        file.write(filedata)\n",
    "    \n",
    "    return"
   ]
  },
  {
   "cell_type": "code",
   "execution_count": 17,
   "id": "curious-consultancy",
   "metadata": {},
   "outputs": [],
   "source": [
    "create_input(d=1.1)"
   ]
  },
  {
   "cell_type": "code",
   "execution_count": 18,
   "id": "neutral-recipient",
   "metadata": {},
   "outputs": [
    {
     "name": "stdout",
     "output_type": "stream",
     "text": [
      "\n",
      "    &control\n",
      "    calculation = 'scf'\n",
      "    prefix = 'h2'\n",
      "    pseudo_dir = '/usr/share/espresso/pseudo/'\n",
      "    /\n",
      "    &system\n",
      "        ibrav=1, celldm(1) =20, \n",
      "        nat=2, ntyp=1,\n",
      "        ecutwfc=10.0\n",
      "    /\n",
      "    &electrons\n",
      "        conv_thr=1e-6\n",
      "    /\n",
      "    &ions\n",
      "        ion_dynamics='bfgs'\n",
      "    /\n",
      "    ATOMIC_SPECIES\n",
      "     H  1.00784  H.blyp-vbc.UPF\n",
      "    ATOMIC_POSITIONS (angstrom)\n",
      "     H 0.00 0.00 0.00\n",
      "     H 1.1 0.00 0.00\n",
      "    K_POINTS (automatic)\n",
      "      1 1 1 0 0 0 \n",
      "    "
     ]
    }
   ],
   "source": [
    "!cat h2/h2.in"
   ]
  },
  {
   "cell_type": "code",
   "execution_count": 52,
   "id": "usual-settle",
   "metadata": {},
   "outputs": [
    {
     "data": {
      "text/plain": [
       "\u001b[0;31mType:\u001b[0m        module\n",
       "\u001b[0;31mString form:\u001b[0m <module 'subprocess' from '/home/subasi/miniconda3/envs/ebt517e/lib/python3.9/subprocess.py'>\n",
       "\u001b[0;31mFile:\u001b[0m        ~/miniconda3/envs/ebt517e/lib/python3.9/subprocess.py\n",
       "\u001b[0;31mDocstring:\u001b[0m  \n",
       "Subprocesses with accessible I/O streams\n",
       "\n",
       "This module allows you to spawn processes, connect to their\n",
       "input/output/error pipes, and obtain their return codes.\n",
       "\n",
       "For a complete description of this module see the Python documentation.\n",
       "\n",
       "Main API\n",
       "========\n",
       "run(...): Runs a command, waits for it to complete, then returns a\n",
       "          CompletedProcess instance.\n",
       "Popen(...): A class for flexibly executing a command in a new process\n",
       "\n",
       "Constants\n",
       "---------\n",
       "DEVNULL: Special value that indicates that os.devnull should be used\n",
       "PIPE:    Special value that indicates a pipe should be created\n",
       "STDOUT:  Special value that indicates that stderr should go to stdout\n",
       "\n",
       "\n",
       "Older API\n",
       "=========\n",
       "call(...): Runs a command, waits for it to complete, then returns\n",
       "    the return code.\n",
       "check_call(...): Same as call() but raises CalledProcessError()\n",
       "    if return code is not 0\n",
       "check_output(...): Same as check_call() but returns the contents of\n",
       "    stdout instead of a return code\n",
       "getoutput(...): Runs a command in the shell, waits for it to complete,\n",
       "    then returns the output\n",
       "getstatusoutput(...): Runs a command in the shell, waits for it to complete,\n",
       "    then returns a (exitcode, output) tuple\n"
      ]
     },
     "metadata": {},
     "output_type": "display_data"
    }
   ],
   "source": [
    "subprocess?"
   ]
  },
  {
   "cell_type": "code",
   "execution_count": 67,
   "id": "dress-carpet",
   "metadata": {},
   "outputs": [],
   "source": [
    "def run_quantum_espresso(cmdline):\n",
    "    print(\"run command: \", cmdline, \"\\n\")\n",
    "    args = shlex.split(cmdline)\n",
    "    # let's use the new run command\n",
    "    p = subprocess.run(args, stdout=subprocess.PIPE, stderr=subprocess.STDOUT, cwd=\"h2/\")\n",
    "    return p"
   ]
  },
  {
   "cell_type": "code",
   "execution_count": 68,
   "id": "subtle-applicant",
   "metadata": {},
   "outputs": [],
   "source": [
    "infile = 'h2.in'\n",
    "\n",
    "cmdline = '/usr/bin/pw.x -inp '+ infile"
   ]
  },
  {
   "cell_type": "code",
   "execution_count": 69,
   "id": "mysterious-accordance",
   "metadata": {},
   "outputs": [
    {
     "data": {
      "text/plain": [
       "'/usr/bin/pw.x -inp h2.in'"
      ]
     },
     "execution_count": 69,
     "metadata": {},
     "output_type": "execute_result"
    }
   ],
   "source": [
    "cmdline"
   ]
  },
  {
   "cell_type": "code",
   "execution_count": 71,
   "id": "earlier-hands",
   "metadata": {},
   "outputs": [
    {
     "name": "stdout",
     "output_type": "stream",
     "text": [
      "run command:  /usr/bin/pw.x -inp h2.in \n",
      "\n"
     ]
    }
   ],
   "source": [
    "out = run_quantum_espresso(cmdline)"
   ]
  },
  {
   "cell_type": "code",
   "execution_count": 81,
   "id": "korean-sacrifice",
   "metadata": {},
   "outputs": [],
   "source": [
    "outstr = out.stdout.decode()"
   ]
  },
  {
   "cell_type": "code",
   "execution_count": 107,
   "id": "binding-marketing",
   "metadata": {
    "collapsed": true,
    "jupyter": {
     "outputs_hidden": true
    }
   },
   "outputs": [
    {
     "name": "stdout",
     "output_type": "stream",
     "text": [
      "\n",
      "     Program PWSCF v.6.4.1 starts on 31Mar2021 at 15:14: 6 \n",
      "\n",
      "     This program is part of the open-source Quantum ESPRESSO suite\n",
      "     for quantum simulation of materials; please cite\n",
      "         \"P. Giannozzi et al., J. Phys.:Condens. Matter 21 395502 (2009);\n",
      "         \"P. Giannozzi et al., J. Phys.:Condens. Matter 29 465901 (2017);\n",
      "          URL http://www.quantum-espresso.org\", \n",
      "     in publications or presentations arising from this work. More details at\n",
      "     http://www.quantum-espresso.org/quote\n",
      "\n",
      "     Parallel version (MPI), running on     1 processors\n",
      "\n",
      "     MPI processes distributed on     1 nodes\n",
      "     Reading input from h2.in\n",
      "Warning: card     &IONS ignored\n",
      "Warning: card         ION_DYNAMICS='BFGS' ignored\n",
      "Warning: card     / ignored\n",
      "\n",
      "     Current dimensions of program PWSCF are:\n",
      "     Max number of different atomic species (ntypx) = 10\n",
      "     Max number of k-points (npk) =  40000\n",
      "     Max angular momentum in pseudopotentials (lmaxx) =  3\n",
      "\n",
      "     Subspace diagonalization in iterative solution of the eigenvalue problem:\n",
      "     a serial algorithm will be used\n",
      "\n",
      "\n",
      "     G-vector sticks info\n",
      "     --------------------\n",
      "     sticks:   dense  smooth     PW     G-vecs:    dense   smooth      PW\n",
      "     Sum        1281    1281    325                34265    34265    4337\n",
      "\n",
      "\n",
      "\n",
      "     bravais-lattice index     =            1\n",
      "     lattice parameter (alat)  =      20.0000  a.u.\n",
      "     unit-cell volume          =    8000.0000 (a.u.)^3\n",
      "     number of atoms/cell      =            2\n",
      "     number of atomic types    =            1\n",
      "     number of electrons       =         2.00\n",
      "     number of Kohn-Sham states=            1\n",
      "     kinetic-energy cutoff     =      10.0000  Ry\n",
      "     charge density cutoff     =      40.0000  Ry\n",
      "     convergence threshold     =      1.0E-06\n",
      "     mixing beta               =       0.7000\n",
      "     number of iterations used =            8  plain     mixing\n",
      "     Exchange-correlation      = SLA LYP B88 BLYP ( 1  3  1  3 0 0)\n",
      "\n",
      "     celldm(1)=  20.000000  celldm(2)=   0.000000  celldm(3)=   0.000000\n",
      "     celldm(4)=   0.000000  celldm(5)=   0.000000  celldm(6)=   0.000000\n",
      "\n",
      "     crystal axes: (cart. coord. in units of alat)\n",
      "               a(1) = (   1.000000   0.000000   0.000000 )  \n",
      "               a(2) = (   0.000000   1.000000   0.000000 )  \n",
      "               a(3) = (   0.000000   0.000000   1.000000 )  \n",
      "\n",
      "     reciprocal axes: (cart. coord. in units 2 pi/alat)\n",
      "               b(1) = (  1.000000  0.000000  0.000000 )  \n",
      "               b(2) = (  0.000000  1.000000  0.000000 )  \n",
      "               b(3) = (  0.000000  0.000000  1.000000 )  \n",
      "\n",
      "\n",
      "     PseudoPot. # 1 for H  read from file:\n",
      "     /usr/share/espresso/pseudo/H.blyp-vbc.UPF\n",
      "     MD5 check sum: 9f69c4be9c953ebedf8d3f0f2c1bb6b2\n",
      "     Pseudo is Norm-conserving, Zval =  1.0\n",
      "     Generated by new atomic code, or converted to UPF format\n",
      "     Using radial grid of  243 points,  0 beta functions with: \n",
      "\n",
      "     atomic species   valence    mass     pseudopotential\n",
      "        H              1.00     1.00784     H ( 1.00)\n",
      "\n",
      "      8 Sym. Ops. (no inversion) found\n",
      "\n",
      "\n",
      "\n",
      "   Cartesian axes\n",
      "\n",
      "     site n.     atom                  positions (alat units)\n",
      "         1           H   tau(   1) = (   0.0000000   0.0000000   0.0000000  )\n",
      "         2           H   tau(   2) = (   0.1039349   0.0000000   0.0000000  )\n",
      "\n",
      "     number of k points=     1\n",
      "                       cart. coord. in units 2pi/alat\n",
      "        k(    1) = (   0.0000000   0.0000000   0.0000000), wk =   2.0000000\n",
      "\n",
      "     Dense  grid:    34265 G-vectors     FFT dimensions: (  45,  45,  45)\n",
      "\n",
      "     Estimated max dynamical RAM per process >      21.09 MB\n",
      "\n",
      "     Initial potential from superposition of free atoms\n",
      "\n",
      "     starting charge    1.99998, renormalised to    2.00000\n",
      "\n",
      "     negative rho (up, down):  1.085E-01 0.000E+00\n",
      "     Starting wfcs are    2 randomized atomic wfcs\n",
      "\n",
      "     total cpu time spent up to now is        0.1 secs\n",
      "\n",
      "     Self-consistent Calculation\n",
      "\n",
      "     iteration #  1     ecut=    10.00 Ry     beta= 0.70\n",
      "     Davidson diagonalization with overlap\n",
      "     ethr =  1.00E-02,  avg # of iterations =  2.0\n",
      "\n",
      "     negative rho (up, down):  3.045E-02 0.000E+00\n",
      "\n",
      "     total cpu time spent up to now is        0.1 secs\n",
      "\n",
      "     total energy              =      -2.11579903 Ry\n",
      "     Harris-Foulkes estimate   =      -2.07993049 Ry\n",
      "     estimated scf accuracy    <       0.03156103 Ry\n",
      "\n",
      "     iteration #  2     ecut=    10.00 Ry     beta= 0.70\n",
      "     Davidson diagonalization with overlap\n",
      "     ethr =  1.58E-03,  avg # of iterations =  1.0\n",
      "\n",
      "     negative rho (up, down):  4.190E-03 0.000E+00\n",
      "\n",
      "     total cpu time spent up to now is        0.1 secs\n",
      "\n",
      "     total energy              =      -2.13402612 Ry\n",
      "     Harris-Foulkes estimate   =      -2.11734225 Ry\n",
      "     estimated scf accuracy    <       0.00109560 Ry\n",
      "\n",
      "     iteration #  3     ecut=    10.00 Ry     beta= 0.70\n",
      "     Davidson diagonalization with overlap\n",
      "     ethr =  5.48E-05,  avg # of iterations =  2.0\n",
      "\n",
      "     negative rho (up, down):  7.538E-05 0.000E+00\n",
      "\n",
      "     total cpu time spent up to now is        0.2 secs\n",
      "\n",
      "     total energy              =      -2.13514736 Ry\n",
      "     Harris-Foulkes estimate   =      -2.13422239 Ry\n",
      "     estimated scf accuracy    <       0.00004725 Ry\n",
      "\n",
      "     iteration #  4     ecut=    10.00 Ry     beta= 0.70\n",
      "     Davidson diagonalization with overlap\n",
      "     ethr =  2.36E-06,  avg # of iterations =  2.0\n",
      "\n",
      "     negative rho (up, down):  5.612E-06 0.000E+00\n",
      "\n",
      "     total cpu time spent up to now is        0.2 secs\n",
      "\n",
      "     total energy              =      -2.13515286 Ry\n",
      "     Harris-Foulkes estimate   =      -2.13515630 Ry\n",
      "     estimated scf accuracy    <       0.00000853 Ry\n",
      "\n",
      "     iteration #  5     ecut=    10.00 Ry     beta= 0.70\n",
      "     Davidson diagonalization with overlap\n",
      "     ethr =  4.27E-07,  avg # of iterations =  2.0\n",
      "\n",
      "     total cpu time spent up to now is        0.2 secs\n",
      "\n",
      "     End of self-consistent calculation\n",
      "\n",
      "          k = 0.0000 0.0000 0.0000 (  4337 PWs)   bands (ev):\n",
      "\n",
      "    -8.6283\n",
      "\n",
      "     highest occupied level (ev):    -8.6283\n",
      "\n",
      "!    total energy              =      -2.13515531 Ry\n",
      "     Harris-Foulkes estimate   =      -2.13515394 Ry\n",
      "     estimated scf accuracy    <       0.00000001 Ry\n",
      "\n",
      "     The total energy is the sum of the following terms:\n",
      "\n",
      "     one-electron contribution =      -2.97288708 Ry\n",
      "     hartree contribution      =       1.58323822 Ry\n",
      "     xc contribution           =      -1.14248613 Ry\n",
      "     ewald contribution        =       0.39697968 Ry\n",
      "\n",
      "     convergence has been achieved in   5 iterations\n",
      "\n",
      "     Writing output data file h2.save/\n",
      "\n",
      "     init_run     :      0.05s CPU      0.05s WALL (       1 calls)\n",
      "     electrons    :      0.16s CPU      0.17s WALL (       1 calls)\n",
      "\n",
      "     Called by init_run:\n",
      "     wfcinit      :      0.00s CPU      0.00s WALL (       1 calls)\n",
      "     potinit      :      0.03s CPU      0.03s WALL (       1 calls)\n",
      "     hinit0       :      0.01s CPU      0.01s WALL (       1 calls)\n",
      "\n",
      "     Called by electrons:\n",
      "     c_bands      :      0.02s CPU      0.02s WALL (       5 calls)\n",
      "     sum_band     :      0.02s CPU      0.02s WALL (       5 calls)\n",
      "     v_of_rho     :      0.12s CPU      0.13s WALL (       6 calls)\n",
      "     mix_rho      :      0.02s CPU      0.02s WALL (       5 calls)\n",
      "\n",
      "     Called by c_bands:\n",
      "     cegterg      :      0.02s CPU      0.02s WALL (       5 calls)\n",
      "\n",
      "     Called by sum_band:\n",
      "\n",
      "     Called by *egterg:\n",
      "     h_psi        :      0.03s CPU      0.03s WALL (      15 calls)\n",
      "     g_psi        :      0.00s CPU      0.00s WALL (       9 calls)\n",
      "     cdiaghg      :      0.00s CPU      0.00s WALL (      14 calls)\n",
      "\n",
      "     Called by h_psi:\n",
      "     h_psi:pot    :      0.03s CPU      0.03s WALL (      15 calls)\n",
      "     vloc_psi     :      0.03s CPU      0.03s WALL (      15 calls)\n",
      "\n",
      "     General routines\n",
      "     fft          :      0.07s CPU      0.07s WALL (      59 calls)\n",
      "     ffts         :      0.01s CPU      0.01s WALL (       5 calls)\n",
      "     fftw         :      0.03s CPU      0.03s WALL (      37 calls)\n",
      "\n",
      "     Parallel routines\n",
      "\n",
      "     PWSCF        :      0.22s CPU      0.24s WALL\n",
      "\n",
      "\n",
      "   This run was terminated on:  15:14: 6  31Mar2021            \n",
      "\n",
      "=------------------------------------------------------------------------------=\n",
      "   JOB DONE.\n",
      "=------------------------------------------------------------------------------=\n",
      "Note: The following floating-point exceptions are signalling: IEEE_UNDERFLOW_FLAG\n",
      "\n"
     ]
    }
   ],
   "source": [
    "print( outstr )"
   ]
  },
  {
   "cell_type": "code",
   "execution_count": 84,
   "id": "macro-heath",
   "metadata": {},
   "outputs": [],
   "source": [
    "import re"
   ]
  },
  {
   "cell_type": "code",
   "execution_count": 128,
   "id": "better-council",
   "metadata": {},
   "outputs": [
    {
     "data": {
      "text/plain": [
       "-2.13515531"
      ]
     },
     "execution_count": 128,
     "metadata": {},
     "output_type": "execute_result"
    }
   ],
   "source": [
    "float(re.search(\"!    total energy              =      (.*)Ry\", outstr).group(0).split()[-2])"
   ]
  },
  {
   "cell_type": "code",
   "execution_count": 130,
   "id": "initial-genesis",
   "metadata": {},
   "outputs": [
    {
     "name": "stdout",
     "output_type": "stream",
     "text": [
      "run command:  /usr/bin/pw.x -inp h2.in \n",
      "\n",
      "run command:  /usr/bin/pw.x -inp h2.in \n",
      "\n",
      "run command:  /usr/bin/pw.x -inp h2.in \n",
      "\n",
      "run command:  /usr/bin/pw.x -inp h2.in \n",
      "\n",
      "run command:  /usr/bin/pw.x -inp h2.in \n",
      "\n",
      "run command:  /usr/bin/pw.x -inp h2.in \n",
      "\n",
      "run command:  /usr/bin/pw.x -inp h2.in \n",
      "\n",
      "run command:  /usr/bin/pw.x -inp h2.in \n",
      "\n",
      "run command:  /usr/bin/pw.x -inp h2.in \n",
      "\n",
      "run command:  /usr/bin/pw.x -inp h2.in \n",
      "\n",
      "run command:  /usr/bin/pw.x -inp h2.in \n",
      "\n"
     ]
    }
   ],
   "source": [
    "dlist = np.linspace(0.4,1.,11)\n",
    "\n",
    "infile = 'h2.in'\n",
    "\n",
    "cmdline = '/usr/bin/pw.x -inp '+ infile\n",
    "\n",
    "elist=[]\n",
    "for d in dlist:\n",
    "    create_input(d=d)\n",
    "    out = run_quantum_espresso(cmdline)\n",
    "    outstr = out.stdout.decode()\n",
    "    energy = float(re.search(\"!    total energy              =      (.*)Ry\", outstr).group(0).split()[-2])\n",
    "    elist.append(energy)"
   ]
  },
  {
   "cell_type": "code",
   "execution_count": 132,
   "id": "wicked-visitor",
   "metadata": {},
   "outputs": [
    {
     "data": {
      "text/plain": [
       "[<matplotlib.lines.Line2D at 0x1478e9129c70>]"
      ]
     },
     "execution_count": 132,
     "metadata": {},
     "output_type": "execute_result"
    },
    {
     "data": {
      "image/png": "[encoded data removed]",
      "text/plain": [
       "<Figure size 432x288 with 1 Axes>"
      ]
     },
     "metadata": {
      "needs_background": "light"
     },
     "output_type": "display_data"
    }
   ],
   "source": [
    "plt.plot(dlist,elist,'.-')"
   ]
  },
  {
   "cell_type": "code",
   "execution_count": null,
   "id": "social-kuwait",
   "metadata": {},
   "outputs": [],
   "source": []
  }
 ],
 "metadata": {
  "kernelspec": {
   "display_name": "Python 3",
   "language": "python",
   "name": "python3"
  },
  "language_info": {
   "codemirror_mode": {
    "name": "ipython",
    "version": 3
   },
   "file_extension": ".py",
   "mimetype": "text/x-python",
   "name": "python",
   "nbconvert_exporter": "python",
   "pygments_lexer": "ipython3",
   "version": "3.9.2"
  }
 },
 "nbformat": 4,
 "nbformat_minor": 5
}
