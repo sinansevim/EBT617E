{
 "cells": [
  {
   "cell_type": "code",
   "execution_count": 1,
   "metadata": {},
   "outputs": [],
   "source": [
    "import numpy as np\n",
    "import matplotlib.pyplot as plt\n",
    "\n",
    "#Shell command libraries\n",
    "import shlex, subprocess\n",
    "import re"
   ]
  },
  {
   "cell_type": "code",
   "execution_count": 2,
   "metadata": {},
   "outputs": [],
   "source": [
    "#A useful function to run shell commands\n",
    "\n",
    "def run_shell_command(cmdline, output=True):\n",
    "    print(\"run shell command: \", cmdline, \"\\n\")\n",
    "    args = shlex.split(cmdline)\n",
    "    # let's use the new run command\n",
    "    p = subprocess.run(args, stdout=subprocess.PIPE, stderr=subprocess.STDOUT)\n",
    "    if output:\n",
    "        print(p.stdout.decode('utf-8'))\n",
    "        return p.stderr"
   ]
  },
  {
   "cell_type": "code",
   "execution_count": 3,
   "metadata": {},
   "outputs": [
    {
     "name": "stdout",
     "output_type": "stream",
     "text": [
      "run shell command:  ls \n",
      "\n",
      "1d_band_structure.ipynb\n",
      "2d_band_structure.ipynb\n",
      "ebt617e_env.yml\n",
      "ebt617e_ex1.ipynb\n",
      "h2\n",
      "h2_quantum_espresso.ipynb\n",
      "hydrogen-wave-function.ipynb\n",
      "LICENSE\n",
      "README.md\n",
      "spec-file_ebt617e_env.txt\n",
      "\n"
     ]
    }
   ],
   "source": [
    "#Testing with a simple command\n",
    "p = run_shell_command('ls', output=True)"
   ]
  },
  {
   "cell_type": "code",
   "execution_count": 15,
   "metadata": {},
   "outputs": [],
   "source": [
    "#Quantum espresso input file with a variable \"d\"\n",
    "def create_input(d=1, inputfile=\"h2/h2.in\"):\n",
    "    filedata = f\"\"\"\n",
    "    &control\n",
    "    calculation = 'scf'\n",
    "    prefix = 'h2'\n",
    "    pseudo_dir = './'\n",
    "    /\n",
    "    &system\n",
    "        ibrav=1, celldm(1) =20, \n",
    "        nat=2, ntyp=1,\n",
    "        ecutwfc=10.0\n",
    "    /\n",
    "    &electrons\n",
    "        conv_thr=1e-6\n",
    "    /\n",
    "    &ions\n",
    "        ion_dynamics='bfgs'\n",
    "    /\n",
    "    ATOMIC_SPECIES\n",
    "     H  1.00784  H.pbe-kjpaw_psl.1.0.0.UPF\n",
    "    ATOMIC_POSITIONS (angstrom)\n",
    "     H 0.00 0.00 0.00\n",
    "     H {d:.2} 0.00 0.00\n",
    "    K_POINTS (automatic)\n",
    "      1 1 1 0 0 0 \n",
    "    \"\"\"\n",
    "    \n",
    "    # Write out the file to be compiledb\n",
    "    with open(inputfile, 'w') as file:\n",
    "        file.write(filedata)\n",
    "    \n",
    "    return"
   ]
  },
  {
   "cell_type": "code",
   "execution_count": 16,
   "metadata": {},
   "outputs": [],
   "source": [
    "#Test the create input function\n",
    "create_input(d=1.1)"
   ]
  },
  {
   "cell_type": "code",
   "execution_count": 17,
   "metadata": {},
   "outputs": [
    {
     "name": "stdout",
     "output_type": "stream",
     "text": [
      "\n",
      "    &control\n",
      "    calculation = 'scf'\n",
      "    prefix = 'h2'\n",
      "    pseudo_dir = './'\n",
      "    /\n",
      "    &system\n",
      "        ibrav=1, celldm(1) =20, \n",
      "        nat=2, ntyp=1,\n",
      "        ecutwfc=10.0\n",
      "    /\n",
      "    &electrons\n",
      "        conv_thr=1e-6\n",
      "    /\n",
      "    &ions\n",
      "        ion_dynamics='bfgs'\n",
      "    /\n",
      "    ATOMIC_SPECIES\n",
      "     H  1.00784  H.pbe-kjpaw_psl.1.0.0.UPF\n",
      "    ATOMIC_POSITIONS (angstrom)\n",
      "     H 0.00 0.00 0.00\n",
      "     H 1.1 0.00 0.00\n",
      "    K_POINTS (automatic)\n",
      "      1 1 1 0 0 0 \n",
      "    "
     ]
    }
   ],
   "source": [
    "!cat h2/h2.in"
   ]
  },
  {
   "cell_type": "code",
   "execution_count": 18,
   "metadata": {},
   "outputs": [],
   "source": [
    "#Run Quantum Espresso\n",
    "def run_quantum_espresso(cmdline):\n",
    "    print(\"run command: \", cmdline, \"\\n\")\n",
    "    args = shlex.split(cmdline)\n",
    "    # let's use the new run command\n",
    "    p = subprocess.run(args, stdout=subprocess.PIPE, stderr=subprocess.STDOUT, cwd=\"h2/\")\n",
    "    return p"
   ]
  },
  {
   "cell_type": "code",
   "execution_count": 19,
   "metadata": {},
   "outputs": [],
   "source": [
    "infile = 'h2.in'\n",
    "cmdline = 'pw.x -inp '+ infile"
   ]
  },
  {
   "cell_type": "code",
   "execution_count": 20,
   "metadata": {},
   "outputs": [
    {
     "data": {
      "text/plain": [
       "'pw.x -inp h2.in'"
      ]
     },
     "execution_count": 20,
     "metadata": {},
     "output_type": "execute_result"
    }
   ],
   "source": [
    "cmdline"
   ]
  },
  {
   "cell_type": "code",
   "execution_count": 21,
   "metadata": {},
   "outputs": [
    {
     "name": "stdout",
     "output_type": "stream",
     "text": [
      "run command:  pw.x -inp h2.in \n",
      "\n"
     ]
    }
   ],
   "source": [
    "out = run_quantum_espresso(cmdline)"
   ]
  },
  {
   "cell_type": "code",
   "execution_count": 22,
   "metadata": {},
   "outputs": [],
   "source": [
    "outstr = out.stdout.decode()"
   ]
  },
  {
   "cell_type": "code",
   "execution_count": 23,
   "metadata": {},
   "outputs": [
    {
     "name": "stdout",
     "output_type": "stream",
     "text": [
      "\n",
      "     Program PWSCF v.6.7GPU starts on  1Apr2021 at 10: 0:54 \n",
      "\n",
      "     This program is part of the open-source Quantum ESPRESSO suite\n",
      "     for quantum simulation of materials; please cite\n",
      "         \"P. Giannozzi et al., J. Phys.:Condens. Matter 21 395502 (2009);\n",
      "         \"P. Giannozzi et al., J. Phys.:Condens. Matter 29 465901 (2017);\n",
      "         \"P. Giannozzi et al., J. Chem. Phys. 152 154105 (2020);\n",
      "          URL http://www.quantum-espresso.org\", \n",
      "     in publications or presentations arising from this work. More details at\n",
      "     http://www.quantum-espresso.org/quote\n",
      "\n",
      "     Parallel version (MPI), running on     1 processors\n",
      "\n",
      "     MPI processes distributed on     1 nodes\n",
      "     Reading input from h2.in\n",
      "\n",
      "     Current dimensions of program PWSCF are:\n",
      "     Max number of different atomic species (ntypx) = 10\n",
      "     Max number of k-points (npk) =  40000\n",
      "     Max angular momentum in pseudopotentials (lmaxx) =  3\n",
      " end of file reached, closing tag not found\n",
      "     file H.pbe-kjpaw_psl.1.0.0.UPF: wavefunction(s)  1S renormalized\n",
      "\n",
      "     Subspace diagonalization in iterative solution of the eigenvalue problem:\n",
      "     a serial algorithm will be used\n",
      "\n",
      " \n",
      "     G-vector sticks info\n",
      "     --------------------\n",
      "     sticks:   dense  smooth     PW     G-vecs:    dense   smooth      PW\n",
      "     Sum        1281    1281    325                34265    34265    4337\n",
      " \n",
      "     Using Slab Decomposition\n",
      " \n",
      "\n",
      "\n",
      "     bravais-lattice index     =            1\n",
      "     lattice parameter (alat)  =      20.0000  a.u.\n",
      "     unit-cell volume          =    8000.0000 (a.u.)^3\n",
      "     number of atoms/cell      =            2\n",
      "     number of atomic types    =            1\n",
      "     number of electrons       =         2.00\n",
      "     number of Kohn-Sham states=            1\n",
      "     kinetic-energy cutoff     =      10.0000  Ry\n",
      "     charge density cutoff     =      40.0000  Ry\n",
      "     scf convergence threshold =      1.0E-06\n",
      "     mixing beta               =       0.7000\n",
      "     number of iterations used =            8  plain     mixing\n",
      "     Exchange-correlation= SLA  PW   PBX  PBC\n",
      "                           (   1   4   3   4   0   0   0)\n",
      "\n",
      "     celldm(1)=  20.000000  celldm(2)=   0.000000  celldm(3)=   0.000000\n",
      "     celldm(4)=   0.000000  celldm(5)=   0.000000  celldm(6)=   0.000000\n",
      "\n",
      "     crystal axes: (cart. coord. in units of alat)\n",
      "               a(1) = (   1.000000   0.000000   0.000000 )  \n",
      "               a(2) = (   0.000000   1.000000   0.000000 )  \n",
      "               a(3) = (   0.000000   0.000000   1.000000 )  \n",
      "\n",
      "     reciprocal axes: (cart. coord. in units 2 pi/alat)\n",
      "               b(1) = (  1.000000  0.000000  0.000000 )  \n",
      "               b(2) = (  0.000000  1.000000  0.000000 )  \n",
      "               b(3) = (  0.000000  0.000000  1.000000 )  \n",
      "\n",
      "\n",
      "     PseudoPot. # 1 for H  read from file:\n",
      "     ./H.pbe-kjpaw_psl.1.0.0.UPF\n",
      "     MD5 check sum: d3667862644f9dbf5ba3e2108d7283f9\n",
      "     Pseudo is Projector augmented-wave, Zval =  1.0\n",
      "     Generated using &quot;atomic&quot; code by A. Dal Corso  v.6.3MaX\n",
      "     Shape of augmentation charge: PSQ\n",
      "     Using radial grid of  929 points,  2 beta functions with: \n",
      "                l(1) =   0\n",
      "                l(2) =   0\n",
      "     Q(r) pseudized with 0 coefficients \n",
      "\n",
      "\n",
      "     atomic species   valence    mass     pseudopotential\n",
      "        H              1.00     1.00784     H ( 1.00)\n",
      "\n",
      "      8 Sym. Ops. (no inversion) found\n",
      "\n",
      "\n",
      "\n",
      "   Cartesian axes\n",
      "\n",
      "     site n.     atom                  positions (alat units)\n",
      "         1           H   tau(   1) = (   0.0000000   0.0000000   0.0000000  )\n",
      "         2           H   tau(   2) = (   0.1039349   0.0000000   0.0000000  )\n",
      "\n",
      "     number of k points=     1\n",
      "                       cart. coord. in units 2pi/alat\n",
      "        k(    1) = (   0.0000000   0.0000000   0.0000000), wk =   2.0000000\n",
      "\n",
      "     Dense  grid:    34265 G-vectors     FFT dimensions: (  45,  45,  45)\n",
      "\n",
      "     Estimated max dynamical RAM per process >      25.03 MB\n",
      "\n",
      "     Initial potential from superposition of free atoms\n",
      "\n",
      "     starting charge    1.99998, renormalised to    2.00000\n",
      "\n",
      "     negative rho (up, down):  1.158E-01 0.000E+00\n",
      "     Starting wfcs are    2 randomized atomic wfcs\n",
      "     Checking if some PAW data can be deallocated... \n",
      "\n",
      "     total cpu time spent up to now is        0.4 secs\n",
      "\n",
      "     Self-consistent Calculation\n",
      "\n",
      "     iteration #  1     ecut=    10.00 Ry     beta= 0.70\n",
      "     Davidson diagonalization with overlap\n",
      "     ethr =  1.00E-02,  avg # of iterations =  2.0\n",
      "\n",
      "     negative rho (up, down):  7.557E-02 0.000E+00\n",
      "\n",
      "     total cpu time spent up to now is        0.5 secs\n",
      "\n",
      "     total energy              =      -2.16379671 Ry\n",
      "     estimated scf accuracy    <       0.03194867 Ry\n",
      "\n",
      "     iteration #  2     ecut=    10.00 Ry     beta= 0.70\n",
      "     Davidson diagonalization with overlap\n",
      "     ethr =  1.60E-03,  avg # of iterations =  1.0\n",
      "\n",
      "     negative rho (up, down):  5.916E-02 0.000E+00\n",
      "\n",
      "     total cpu time spent up to now is        0.6 secs\n",
      "\n",
      "     total energy              =      -2.16505268 Ry\n",
      "     estimated scf accuracy    <       0.00116559 Ry\n",
      "\n",
      "     iteration #  3     ecut=    10.00 Ry     beta= 0.70\n",
      "     Davidson diagonalization with overlap\n",
      "     ethr =  5.83E-05,  avg # of iterations =  2.0\n",
      "\n",
      "     negative rho (up, down):  5.523E-02 0.000E+00\n",
      "\n",
      "     total cpu time spent up to now is        0.6 secs\n",
      "\n",
      "     total energy              =      -2.16521795 Ry\n",
      "     estimated scf accuracy    <       0.00003104 Ry\n",
      "\n",
      "     iteration #  4     ecut=    10.00 Ry     beta= 0.70\n",
      "     Davidson diagonalization with overlap\n",
      "     ethr =  1.55E-06,  avg # of iterations =  2.0\n",
      "\n",
      "     negative rho (up, down):  5.537E-02 0.000E+00\n",
      "\n",
      "     total cpu time spent up to now is        0.6 secs\n",
      "\n",
      "     total energy              =      -2.16521814 Ry\n",
      "     estimated scf accuracy    <       0.00000592 Ry\n",
      "\n",
      "     iteration #  5     ecut=    10.00 Ry     beta= 0.70\n",
      "     Davidson diagonalization with overlap\n",
      "     ethr =  2.96E-07,  avg # of iterations =  1.0\n",
      "\n",
      "     negative rho (up, down):  5.536E-02 0.000E+00\n",
      "\n",
      "     total cpu time spent up to now is        0.7 secs\n",
      "\n",
      "     End of self-consistent calculation\n",
      "\n",
      "          k = 0.0000 0.0000 0.0000 (  4337 PWs)   bands (ev):\n",
      "\n",
      "    -8.7708\n",
      "\n",
      "     highest occupied level (ev):    -8.7708\n",
      "\n",
      "!    total energy              =      -2.16521868 Ry\n",
      "\n",
      "     total all-electron energy =        -2.165210 Ry\n",
      "     estimated scf accuracy    <          1.6E-09 Ry\n",
      "\n",
      "     The total energy is the sum of the following terms:\n",
      "     one-electron contribution =      -3.00761466 Ry\n",
      "     hartree contribution      =       1.60426958 Ry\n",
      "     xc contribution           =      -1.15863407 Ry\n",
      "     ewald contribution        =       0.39697969 Ry\n",
      "     one-center paw contrib.   =      -0.00021922 Ry\n",
      "\n",
      "     convergence has been achieved in   5 iterations\n",
      "\n",
      "     Writing output data file ./h2.save/\n",
      " \n",
      "     init_run     :      0.09s CPU      0.27s WALL (       1 calls)\n",
      "     electrons    :      0.22s CPU      0.25s WALL (       1 calls)\n",
      "\n",
      "     Called by init_run:\n",
      "     wfcinit      :      0.01s CPU      0.06s WALL (       1 calls)\n",
      "     potinit      :      0.04s CPU      0.08s WALL (       1 calls)\n",
      "     hinit0       :      0.01s CPU      0.06s WALL (       1 calls)\n",
      "\n",
      "     Called by electrons:\n",
      "     c_bands      :      0.03s CPU      0.04s WALL (       5 calls)\n",
      "     sum_band     :      0.04s CPU      0.04s WALL (       5 calls)\n",
      "     v_of_rho     :      0.16s CPU      0.17s WALL (       6 calls)\n",
      "     newd         :      0.01s CPU      0.02s WALL (       6 calls)\n",
      "     PAW_pot      :      0.00s CPU      0.02s WALL (       6 calls)\n",
      "     mix_rho      :      0.01s CPU      0.02s WALL (       5 calls)\n",
      "\n",
      "     Called by c_bands:\n",
      "     init_us_2    :      0.00s CPU      0.00s WALL (      11 calls)\n",
      "     cegterg      :      0.03s CPU      0.04s WALL (       5 calls)\n",
      "\n",
      "     Called by *egterg:\n",
      "     cdiaghg      :      0.00s CPU      0.04s WALL (      13 calls)\n",
      "     h_psi        :      0.03s CPU      0.04s WALL (      14 calls)\n",
      "     s_psi        :      0.00s CPU      0.00s WALL (      14 calls)\n",
      "     g_psi        :      0.00s CPU      0.00s WALL (       8 calls)\n",
      "\n",
      "     Called by h_psi:\n",
      "     h_psi:calbec :      0.00s CPU      0.00s WALL (      14 calls)\n",
      "     vloc_psi     :      0.03s CPU      0.03s WALL (      14 calls)\n",
      "     add_vuspsi   :      0.00s CPU      0.00s WALL (      14 calls)\n",
      "\n",
      "     General routines\n",
      "     calbec       :      0.00s CPU      0.00s WALL (      19 calls)\n",
      "     fft          :      0.04s CPU      0.09s WALL (      65 calls)\n",
      "     ffts         :      0.00s CPU      0.00s WALL (       5 calls)\n",
      "     fftw         :      0.03s CPU      0.03s WALL (      35 calls)\n",
      " \n",
      "     Parallel routines\n",
      " \n",
      "     PWSCF        :      0.37s CPU      0.68s WALL\n",
      "\n",
      " \n",
      "   This run was terminated on:  10: 0:55   1Apr2021            \n",
      "\n",
      "=------------------------------------------------------------------------------=\n",
      "   JOB DONE.\n",
      "=------------------------------------------------------------------------------=\n",
      "\n"
     ]
    }
   ],
   "source": [
    "print( outstr )"
   ]
  },
  {
   "cell_type": "code",
   "execution_count": null,
   "metadata": {},
   "outputs": [],
   "source": []
  },
  {
   "cell_type": "code",
   "execution_count": 24,
   "metadata": {},
   "outputs": [
    {
     "data": {
      "text/plain": [
       "-2.16521868"
      ]
     },
     "execution_count": 24,
     "metadata": {},
     "output_type": "execute_result"
    }
   ],
   "source": [
    "float(re.search(\"!    total energy              =      (.*)Ry\", outstr).group(0).split()[-2])"
   ]
  },
  {
   "cell_type": "code",
   "execution_count": 34,
   "metadata": {},
   "outputs": [
    {
     "name": "stdout",
     "output_type": "stream",
     "text": [
      "run command:  pw.x -inp h2.in \n",
      "\n",
      "run command:  pw.x -inp h2.in \n",
      "\n",
      "run command:  pw.x -inp h2.in \n",
      "\n",
      "run command:  pw.x -inp h2.in \n",
      "\n",
      "run command:  pw.x -inp h2.in \n",
      "\n",
      "run command:  pw.x -inp h2.in \n",
      "\n",
      "run command:  pw.x -inp h2.in \n",
      "\n",
      "run command:  pw.x -inp h2.in \n",
      "\n",
      "run command:  pw.x -inp h2.in \n",
      "\n",
      "run command:  pw.x -inp h2.in \n",
      "\n",
      "run command:  pw.x -inp h2.in \n",
      "\n"
     ]
    }
   ],
   "source": [
    "dlist = np.linspace(0.4,1.4,11)\n",
    "\n",
    "infile = 'h2.in'\n",
    "\n",
    "cmdline = 'pw.x -inp '+ infile\n",
    "\n",
    "elist=[]\n",
    "for d in dlist:\n",
    "    create_input(d=d)\n",
    "    out = run_quantum_espresso(cmdline)\n",
    "    outstr = out.stdout.decode()\n",
    "    energy = float(re.search(\"!    total energy              =      (.*)Ry\", outstr).group(0).split()[-2])\n",
    "    elist.append(energy)"
   ]
  },
  {
   "cell_type": "code",
   "execution_count": 35,
   "metadata": {},
   "outputs": [
    {
     "data": {
      "text/plain": [
       "[<matplotlib.lines.Line2D at 0x7fdbadf20af0>]"
      ]
     },
     "execution_count": 35,
     "metadata": {},
     "output_type": "execute_result"
    },
    {
     "data": {
      "image/png": "[encoded data removed]",
      "text/plain": [
       "<Figure size 432x288 with 1 Axes>"
      ]
     },
     "metadata": {
      "needs_background": "light"
     },
     "output_type": "display_data"
    }
   ],
   "source": [
    "plt.plot(dlist,elist,'.-')"
   ]
  },
  {
   "cell_type": "code",
   "execution_count": null,
   "metadata": {},
   "outputs": [],
   "source": []
  }
 ],
 "metadata": {
  "kernelspec": {
   "display_name": "Python 3",
   "language": "python",
   "name": "python3"
  },
  "language_info": {
   "codemirror_mode": {
    "name": "ipython",
    "version": 3
   },
   "file_extension": ".py",
   "mimetype": "text/x-python",
   "name": "python",
   "nbconvert_exporter": "python",
   "pygments_lexer": "ipython3",
   "version": "3.8.5"
  }
 },
 "nbformat": 4,
 "nbformat_minor": 5
}
